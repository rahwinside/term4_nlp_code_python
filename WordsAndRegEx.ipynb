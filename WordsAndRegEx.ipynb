{
 "cells": [
  {
   "cell_type": "markdown",
   "id": "4c473f4b",
   "metadata": {},
   "source": [
    "# Strings"
   ]
  },
  {
   "cell_type": "code",
   "execution_count": 2,
   "id": "ecec28e8",
   "metadata": {},
   "outputs": [
    {
     "data": {
      "text/plain": [
       "str"
      ]
     },
     "execution_count": 2,
     "metadata": {},
     "output_type": "execute_result"
    }
   ],
   "source": [
    "# String assignment\n",
    "text = \"san francisco\"\n",
    "type(text)"
   ]
  },
  {
   "cell_type": "code",
   "execution_count": 3,
   "id": "ec598613",
   "metadata": {},
   "outputs": [
    {
     "data": {
      "text/plain": [
       "list"
      ]
     },
     "execution_count": 3,
     "metadata": {},
     "output_type": "execute_result"
    }
   ],
   "source": [
    "num = [\"24\",\"34\",\"36\"]\n",
    "type(num)"
   ]
  },
  {
   "cell_type": "markdown",
   "id": "b0f82335",
   "metadata": {},
   "source": [
    "# String Manipulations"
   ]
  },
  {
   "cell_type": "code",
   "execution_count": 21,
   "id": "e3f4a8e3",
   "metadata": {},
   "outputs": [
    {
     "data": {
      "text/plain": [
       "'Var1-Var2'"
      ]
     },
     "execution_count": 21,
     "metadata": {},
     "output_type": "execute_result"
    }
   ],
   "source": [
    "var3 = \"Var1\" + \"-\" + \"Var2\"\n",
    "var3"
   ]
  },
  {
   "cell_type": "code",
   "execution_count": 27,
   "id": "653860be",
   "metadata": {},
   "outputs": [
    {
     "data": {
      "text/plain": [
       "['1?', '2!', '3?', '4!', '5?']"
      ]
     },
     "execution_count": 27,
     "metadata": {},
     "output_type": "execute_result"
    }
   ],
   "source": [
    "from itertools import cycle\n",
    "\n",
    "l1 = [1, 2, 3, 4, 5]\n",
    "l2 = ['?', '!']\n",
    "l3 = [str(i) + j for i, j in zip(l1, cycle(l2))]\n",
    "l3"
   ]
  },
  {
   "cell_type": "code",
   "execution_count": 28,
   "id": "90da8c00",
   "metadata": {},
   "outputs": [
    {
     "data": {
      "text/plain": [
       "'san francisco-USA'"
      ]
     },
     "execution_count": 28,
     "metadata": {},
     "output_type": "execute_result"
    }
   ],
   "source": [
    "text + '-' + 'USA'"
   ]
  },
  {
   "cell_type": "code",
   "execution_count": 31,
   "id": "611c4f6d",
   "metadata": {},
   "outputs": [
    {
     "data": {
      "text/plain": [
       "'January February March April May'"
      ]
     },
     "execution_count": 31,
     "metadata": {},
     "output_type": "execute_result"
    }
   ],
   "source": [
    "import calendar\n",
    "' '.join(map(str, calendar.month_name[1:6]))"
   ]
  },
  {
   "cell_type": "code",
   "execution_count": 34,
   "id": "b95b37fb",
   "metadata": {},
   "outputs": [
    {
     "data": {
      "text/plain": [
       "'1,2,3,4,5,6,7,8,9,10'"
      ]
     },
     "execution_count": 34,
     "metadata": {},
     "output_type": "execute_result"
    }
   ],
   "source": [
    "','.join(map(str, [str(i) for i in range(1, 11)]))"
   ]
  },
  {
   "cell_type": "markdown",
   "id": "260716eb",
   "metadata": {},
   "source": [
    "# Popular Functions"
   ]
  },
  {
   "cell_type": "code",
   "execution_count": 35,
   "id": "2c8416b7",
   "metadata": {},
   "outputs": [
    {
     "data": {
      "text/plain": [
       "13"
      ]
     },
     "execution_count": 35,
     "metadata": {},
     "output_type": "execute_result"
    }
   ],
   "source": [
    "# count number of characters in a string\n",
    "len(text)"
   ]
  },
  {
   "cell_type": "code",
   "execution_count": 37,
   "id": "e46d768b",
   "metadata": {},
   "outputs": [
    {
     "data": {
      "text/plain": [
       "'san francisco'"
      ]
     },
     "execution_count": 37,
     "metadata": {},
     "output_type": "execute_result"
    }
   ],
   "source": [
    "# convert string to lower-case\n",
    "text.lower()"
   ]
  },
  {
   "cell_type": "code",
   "execution_count": 38,
   "id": "3100a91f",
   "metadata": {},
   "outputs": [
    {
     "data": {
      "text/plain": [
       "'SAN FRANCISCO'"
      ]
     },
     "execution_count": 38,
     "metadata": {},
     "output_type": "execute_result"
    }
   ],
   "source": [
    "# convert string to upper-case\n",
    "text.upper()"
   ]
  },
  {
   "cell_type": "code",
   "execution_count": 39,
   "id": "b7c0d7aa",
   "metadata": {},
   "outputs": [
    {
     "data": {
      "text/plain": [
       "'sxn frxncisco'"
      ]
     },
     "execution_count": 39,
     "metadata": {},
     "output_type": "execute_result"
    }
   ],
   "source": [
    "# replace character in a string\n",
    "text.replace('a', 'x')"
   ]
  },
  {
   "cell_type": "code",
   "execution_count": 41,
   "id": "fc9e571a",
   "metadata": {},
   "outputs": [
    {
     "data": {
      "text/plain": [
       "'n fran'"
      ]
     },
     "execution_count": 41,
     "metadata": {},
     "output_type": "execute_result"
    }
   ],
   "source": [
    "# substring (var[start_index(inclusive) : end_index(exclusive)])\n",
    "text[2: 8]"
   ]
  },
  {
   "cell_type": "code",
   "execution_count": 45,
   "id": "3e7e29d1",
   "metadata": {},
   "outputs": [
    {
     "data": {
      "text/plain": [
       "False"
      ]
     },
     "metadata": {},
     "output_type": "display_data"
    },
    {
     "data": {
      "text/plain": [
       "True"
      ]
     },
     "metadata": {},
     "output_type": "display_data"
    },
    {
     "data": {
      "text/plain": [
       "False"
      ]
     },
     "metadata": {},
     "output_type": "display_data"
    }
   ],
   "source": [
    "# compare strings\n",
    "display(text is var3)\n",
    "display(text > var3)\n",
    "display(text < var3)"
   ]
  },
  {
   "cell_type": "code",
   "execution_count": 46,
   "id": "82f8faba",
   "metadata": {},
   "outputs": [
    {
     "data": {
      "text/plain": [
       "['san', 'francisco']"
      ]
     },
     "execution_count": 46,
     "metadata": {},
     "output_type": "execute_result"
    }
   ],
   "source": [
    "# split string (default whitespace)\n",
    "text.split(' ')"
   ]
  },
  {
   "cell_type": "code",
   "execution_count": 47,
   "id": "f5fbc6cf",
   "metadata": {},
   "outputs": [
    {
     "data": {
      "text/plain": [
       "'swe frwecisco'"
      ]
     },
     "execution_count": 47,
     "metadata": {},
     "output_type": "execute_result"
    }
   ],
   "source": [
    "# substitute substring (all instances)\n",
    "text.replace('an', 'we')"
   ]
  },
  {
   "cell_type": "code",
   "execution_count": 48,
   "id": "23fb9463",
   "metadata": {},
   "outputs": [
    {
     "data": {
      "text/plain": [
       "'swe francisco'"
      ]
     },
     "execution_count": 48,
     "metadata": {},
     "output_type": "execute_result"
    }
   ],
   "source": [
    "# substitute substring (first instance only)\n",
    "text.replace('an', 'we', 1)"
   ]
  },
  {
   "cell_type": "code",
   "execution_count": 49,
   "id": "b2635772",
   "metadata": {},
   "outputs": [],
   "source": [
    "# abbreviate?"
   ]
  },
  {
   "cell_type": "code",
   "execution_count": 82,
   "id": "fe6051d8",
   "metadata": {},
   "outputs": [],
   "source": [
    "string = \"Los Angeles, officially the City of Los Angeles and often known   by its initials L.A.,is the second-most populous city in the United States   (after New York City), the most populous city in California and the county   seat of Los Angeles County. Situated in Southern California, Los Angeles is   known for its Mediterranean climate, ethnic diversity, sprawling metropolis,   and as a major center of the American entertainment industry.\""
   ]
  },
  {
   "cell_type": "code",
   "execution_count": 83,
   "id": "825486b0",
   "metadata": {},
   "outputs": [
    {
     "data": {
      "text/plain": [
       "['Los Angeles, officially the City of Los Angeles and often known   by',\n",
       " 'its initials L.A.,is the second-most populous city in the United',\n",
       " 'States   (after New York City), the most populous city in California',\n",
       " 'and the county   seat of Los Angeles County. Situated in Southern',\n",
       " 'California, Los Angeles is   known for its Mediterranean climate,',\n",
       " 'ethnic diversity, sprawling metropolis,   and as a major center of the',\n",
       " 'American entertainment industry.']"
      ]
     },
     "execution_count": 83,
     "metadata": {},
     "output_type": "execute_result"
    }
   ],
   "source": [
    "from textwrap import wrap\n",
    "\n",
    "wrap(string)"
   ]
  },
  {
   "cell_type": "code",
   "execution_count": 55,
   "id": "5da06fe6",
   "metadata": {},
   "outputs": [
    {
     "data": {
      "text/plain": [
       "438"
      ]
     },
     "execution_count": 55,
     "metadata": {},
     "output_type": "execute_result"
    }
   ],
   "source": [
    "len(string)"
   ]
  },
  {
   "cell_type": "code",
   "execution_count": 56,
   "id": "68097bb5",
   "metadata": {},
   "outputs": [
    {
     "data": {
      "text/plain": [
       "'los angeles, officially the city of los angeles and often known   by its initials l.a.,is the second-most populous city in the united states   (after new york city), the most populous city in california and the county   seat of los angeles county. situated in southern california, los angeles is   known for its mediterranean climate, ethnic diversity, sprawling metropolis,   and as a major center of the american entertainment industry.'"
      ]
     },
     "execution_count": 56,
     "metadata": {},
     "output_type": "execute_result"
    }
   ],
   "source": [
    "string.lower()"
   ]
  },
  {
   "cell_type": "code",
   "execution_count": 57,
   "id": "dcd19a56",
   "metadata": {},
   "outputs": [
    {
     "data": {
      "text/plain": [
       "'LOS ANGELES, OFFICIALLY THE CITY OF LOS ANGELES AND OFTEN KNOWN   BY ITS INITIALS L.A.,IS THE SECOND-MOST POPULOUS CITY IN THE UNITED STATES   (AFTER NEW YORK CITY), THE MOST POPULOUS CITY IN CALIFORNIA AND THE COUNTY   SEAT OF LOS ANGELES COUNTY. SITUATED IN SOUTHERN CALIFORNIA, LOS ANGELES IS   KNOWN FOR ITS MEDITERRANEAN CLIMATE, ETHNIC DIVERSITY, SPRAWLING METROPOLIS,   AND AS A MAJOR CENTER OF THE AMERICAN ENTERTAINMENT INDUSTRY.'"
      ]
     },
     "execution_count": 57,
     "metadata": {},
     "output_type": "execute_result"
    }
   ],
   "source": [
    "string.upper()"
   ]
  },
  {
   "cell_type": "code",
   "execution_count": 68,
   "id": "4220c9d8",
   "metadata": {},
   "outputs": [
    {
     "data": {
      "text/plain": [
       "'Los Aogeles, officiflly the City of Los Aogeles for ofteo koowo   by its ioitifls L.A.,is the secoor-most populous city io the Uoiter Stftes   (ffter New York City), the most populous city io Cfliforoif for the couoty   seft of Los Aogeles Couoty. Situfter io Southero Cfliforoif, Los Aogeles is   koowo for its Meriterrfoefo climfte, ethoic riversity, sprfwliog metropolis,   for fs f mfjor ceoter of the Americfo eotertfiomeot iorustry.'"
      ]
     },
     "execution_count": 68,
     "metadata": {},
     "output_type": "execute_result"
    }
   ],
   "source": [
    "# replace multiple characters in a string !case sensitive\n",
    "# NOTE: use ,1 in replace function for first match only\n",
    "str_new = string\n",
    "for c1, c2 in zip(\"and\", \"for\"):\n",
    "    str_new = str_new.replace(c1, c2)\n",
    "str_new"
   ]
  },
  {
   "cell_type": "code",
   "execution_count": 69,
   "id": "f5fa68aa",
   "metadata": {},
   "outputs": [
    {
     "data": {
      "text/plain": [
       "'Los Angeles, officially the City of Los Angeles and often known   by its initials L.A.,was the second-most populous city in the United States   (after New York City), the most populous city in California and the county   seat of Los Angeles County. Situated in Southern California, Los Angeles was   known for its Mediterranean climate, ethnic diversity, sprawling metropolwas,   and as a major center of the American entertainment industry.'"
      ]
     },
     "execution_count": 69,
     "metadata": {},
     "output_type": "execute_result"
    }
   ],
   "source": [
    "# replace whole words !case sensitive\n",
    "# NOTE: use ,1 in replace function for first match only\n",
    "string.replace('is', 'was')"
   ]
  },
  {
   "cell_type": "code",
   "execution_count": 70,
   "id": "6d3d2085",
   "metadata": {},
   "outputs": [
    {
     "data": {
      "text/plain": [
       "{'tuesday', 'wednesday'}"
      ]
     },
     "execution_count": 70,
     "metadata": {},
     "output_type": "execute_result"
    }
   ],
   "source": [
    "# difference between two vectors\n",
    "setA = {\"monday\",\"tuesday\",\"wednesday\"}\n",
    "setB = {\"monday\",\"thursday\",\"friday\"}\n",
    "\n",
    "setA.difference(setB)"
   ]
  },
  {
   "cell_type": "code",
   "execution_count": 76,
   "id": "ae01d331",
   "metadata": {},
   "outputs": [
    {
     "data": {
      "text/plain": [
       "False"
      ]
     },
     "metadata": {},
     "output_type": "display_data"
    },
    {
     "data": {
      "text/plain": [
       "True"
      ]
     },
     "metadata": {},
     "output_type": "display_data"
    }
   ],
   "source": [
    "# check if strings/sets are equal\n",
    "display(setA is setB)\n",
    "display(setA is setA)"
   ]
  },
  {
   "cell_type": "code",
   "execution_count": 77,
   "id": "73878f16",
   "metadata": {},
   "outputs": [],
   "source": [
    "# TODO: Abbreviate?"
   ]
  },
  {
   "cell_type": "code",
   "execution_count": 80,
   "id": "815a9a44",
   "metadata": {},
   "outputs": [
    {
     "data": {
      "text/plain": [
       "[['ID', '101'], ['ID', '102'], ['ID', '103'], ['ID', '104']]"
      ]
     },
     "execution_count": 80,
     "metadata": {},
     "output_type": "execute_result"
    }
   ],
   "source": [
    "# split strings\n",
    "x = [\"ID-101\",\"ID-102\",\"ID-103\",\"ID-104\"]\n",
    "[i.split('-') for i in x]"
   ]
  },
  {
   "cell_type": "markdown",
   "id": "067c6c9e",
   "metadata": {},
   "source": [
    "# Matches in Text"
   ]
  },
  {
   "cell_type": "code",
   "execution_count": 111,
   "id": "38a80102",
   "metadata": {},
   "outputs": [
    {
     "data": {
      "text/plain": [
       "(4, 11)"
      ]
     },
     "metadata": {},
     "output_type": "display_data"
    }
   ],
   "source": [
    "# return boundary indices of the first matched string\n",
    "import re\n",
    "try:\n",
    "    display(re.search(\"Angeles\", string).span())\n",
    "except:\n",
    "    display(\"no match\")"
   ]
  },
  {
   "cell_type": "code",
   "execution_count": 100,
   "id": "c76e5a9a",
   "metadata": {},
   "outputs": [
    {
     "data": {
      "text/plain": [
       "True"
      ]
     },
     "metadata": {},
     "output_type": "display_data"
    }
   ],
   "source": [
    "# Return T/F of matched string\n",
    "if re.search(\"Angeles\", string):\n",
    "    display(True)\n",
    "else:\n",
    "    display(False)"
   ]
  },
  {
   "cell_type": "code",
   "execution_count": 112,
   "id": "2218207c",
   "metadata": {},
   "outputs": [
    {
     "data": {
      "text/plain": [
       "(87, 89)"
      ]
     },
     "metadata": {},
     "output_type": "display_data"
    },
    {
     "data": {
      "text/plain": [
       "(293, 295)"
      ]
     },
     "metadata": {},
     "output_type": "display_data"
    },
    {
     "data": {
      "text/plain": [
       "(371, 373)"
      ]
     },
     "metadata": {},
     "output_type": "display_data"
    }
   ],
   "source": [
    "# return boundary indices of all matches\n",
    "for i in re.finditer(\"is\", string):\n",
    "    display(i.span())"
   ]
  },
  {
   "cell_type": "markdown",
   "id": "e38e75c4",
   "metadata": {},
   "source": [
    "# Regular Expressions"
   ]
  },
  {
   "cell_type": "code",
   "execution_count": 113,
   "id": "fe891276",
   "metadata": {},
   "outputs": [],
   "source": [
    "text = \"As much mud in the streets as if the waters had but newly retired from   the face of the earth, and it would not be wonderful to meet a   Megalosaurus, forty feet long or so, waddling like an elephantine lizard   up Holborn Hill.\""
   ]
  },
  {
   "cell_type": "code",
   "execution_count": 114,
   "id": "009de338",
   "metadata": {},
   "outputs": [
    {
     "data": {
      "text/plain": [
       "(37, 43)"
      ]
     },
     "execution_count": 114,
     "metadata": {},
     "output_type": "execute_result"
    }
   ],
   "source": [
    "pat = r'waters'\n",
    "\n",
    "re.search(pat, text).span()"
   ]
  },
  {
   "cell_type": "code",
   "execution_count": 118,
   "id": "31dd428c",
   "metadata": {},
   "outputs": [
    {
     "data": {
      "text/plain": [
       "'First occurence:'"
      ]
     },
     "metadata": {},
     "output_type": "display_data"
    },
    {
     "data": {
      "text/plain": [
       "(12, 14)"
      ]
     },
     "metadata": {},
     "output_type": "display_data"
    },
    {
     "data": {
      "text/plain": [
       "'All occurences:'"
      ]
     },
     "metadata": {},
     "output_type": "display_data"
    },
    {
     "data": {
      "text/plain": [
       "(12, 14)"
      ]
     },
     "metadata": {},
     "output_type": "display_data"
    },
    {
     "data": {
      "text/plain": [
       "(180, 183)"
      ]
     },
     "metadata": {},
     "output_type": "display_data"
    },
    {
     "data": {
      "text/plain": [
       "(200, 202)"
      ]
     },
     "metadata": {},
     "output_type": "display_data"
    }
   ],
   "source": [
    "pat = r'ing?'\n",
    "\n",
    "display(\"First occurence:\", re.search(pat, text).span())\n",
    "\n",
    "display(\"All occurences:\")\n",
    "for i in re.finditer(pat, text):\n",
    "    display(i.span())"
   ]
  },
  {
   "cell_type": "markdown",
   "id": "58802206",
   "metadata": {},
   "source": [
    "## Disjunction"
   ]
  },
  {
   "cell_type": "code",
   "execution_count": 122,
   "id": "414d5f21",
   "metadata": {},
   "outputs": [
    {
     "data": {
      "text/plain": [
       "(37, 43)"
      ]
     },
     "metadata": {},
     "output_type": "display_data"
    },
    {
     "data": {
      "text/plain": [
       "(89, 94)"
      ]
     },
     "metadata": {},
     "output_type": "display_data"
    },
    {
     "data": {
      "text/plain": [
       "(224, 228)"
      ]
     },
     "metadata": {},
     "output_type": "display_data"
    },
    {
     "data": {
      "text/plain": [
       "[('waters', '', ''), ('', 'earth', ''), ('', '', 'Hill')]"
      ]
     },
     "execution_count": 122,
     "metadata": {},
     "output_type": "execute_result"
    }
   ],
   "source": [
    "pat = r'(waters?)|(earth)|([Hh]ill)'\n",
    "\n",
    "for i in re.finditer(pat, text):\n",
    "    display(i.span())\n",
    "\n",
    "re.findall(pat, text)"
   ]
  },
  {
   "cell_type": "markdown",
   "id": "2219b825",
   "metadata": {},
   "source": [
    "## Metacharacters/Escape Sequences\n",
    "Add \\ in front of these characters to escape them: \\ | ( ) [ ] { } $ * + ?"
   ]
  },
  {
   "cell_type": "code",
   "execution_count": 132,
   "id": "056d09b8",
   "metadata": {},
   "outputs": [
    {
     "data": {
      "text/plain": [
       "['$', '\\\\', '&', '&']"
      ]
     },
     "execution_count": 132,
     "metadata": {},
     "output_type": "execute_result"
    }
   ],
   "source": [
    "sample = \"hello$ this is \\ rahul writing reg&&x\"\n",
    "pat = r'\\$|\\\\|\\&'\n",
    "\n",
    "re.findall(pat, sample)"
   ]
  },
  {
   "cell_type": "markdown",
   "id": "30ff7906",
   "metadata": {},
   "source": [
    "## Quantifiers"
   ]
  },
  {
   "cell_type": "code",
   "execution_count": 130,
   "id": "51abfaca",
   "metadata": {},
   "outputs": [
    {
     "data": {
      "text/plain": [
       "['10001', '101']"
      ]
     },
     "metadata": {},
     "output_type": "display_data"
    },
    {
     "data": {
      "text/plain": [
       "['1000', '10', '10', '1', '1', '1', '1', '1']"
      ]
     },
     "metadata": {},
     "output_type": "display_data"
    },
    {
     "data": {
      "text/plain": [
       "['001', '011']"
      ]
     },
     "metadata": {},
     "output_type": "display_data"
    },
    {
     "data": {
      "text/plain": [
       "['000101011111']"
      ]
     },
     "metadata": {},
     "output_type": "display_data"
    }
   ],
   "source": [
    "# .\n",
    "num = \"1000101011111\"\n",
    "# kleene plus - greedy\n",
    "display(re.findall(r'10+1', num))\n",
    "\n",
    "# kleene star - non greedy\n",
    "display(re.findall(r'10*', num))\n",
    "\n",
    "# .\n",
    "display(re.findall(r'0.1', num))\n",
    "display(re.findall(r'0.+1', num))"
   ]
  },
  {
   "cell_type": "code",
   "execution_count": 162,
   "id": "7dc41124",
   "metadata": {},
   "outputs": [
    {
     "data": {
      "text/plain": [
       "'anna crissy puerto cristian garcia steven alex rudy'"
      ]
     },
     "metadata": {},
     "output_type": "display_data"
    },
    {
     "data": {
      "text/plain": [
       "['anna',\n",
       " '',\n",
       " 'crissy',\n",
       " '',\n",
       " 'puerto',\n",
       " '',\n",
       " 'cristian',\n",
       " '',\n",
       " 'garcia',\n",
       " '',\n",
       " 'steven',\n",
       " '',\n",
       " 'alex',\n",
       " '',\n",
       " 'rudy',\n",
       " '']"
      ]
     },
     "metadata": {},
     "output_type": "display_data"
    }
   ],
   "source": [
    "names = ' '.join(map(str, [\"anna\",\"crissy\",\"puerto\",\"cristian\",\"garcia\",\"steven\",\"alex\",\"rudy\"]))\n",
    "display(names)\n",
    "\n",
    "# doesn't matter if e is a match\n",
    "display(re.findall(r'[^ ]*e*[^ ]*', names))"
   ]
  },
  {
   "cell_type": "code",
   "execution_count": 161,
   "id": "b68996f3",
   "metadata": {},
   "outputs": [
    {
     "data": {
      "text/plain": [
       "['puerto', 'cristian', 'steven']"
      ]
     },
     "metadata": {},
     "output_type": "display_data"
    }
   ],
   "source": [
    "# must match t one or more times\n",
    "display(re.findall(r'[^ ]*t+[^ ]*', names))"
   ]
  },
  {
   "cell_type": "code",
   "execution_count": 163,
   "id": "9c70c481",
   "metadata": {},
   "outputs": [
    {
     "data": {
      "text/plain": [
       "['anna']"
      ]
     },
     "metadata": {},
     "output_type": "display_data"
    }
   ],
   "source": [
    "# must match n two times\n",
    "display(re.findall(r'[^ ]*n{2}[^ ]*', names))"
   ]
  },
  {
   "cell_type": "markdown",
   "id": "aaf5edf3",
   "metadata": {},
   "source": [
    "## Sequences"
   ]
  },
  {
   "cell_type": "code",
   "execution_count": 164,
   "id": "1c69b841",
   "metadata": {},
   "outputs": [],
   "source": [
    "string = \"I have been to Paris 20 times\""
   ]
  },
  {
   "cell_type": "code",
   "execution_count": 167,
   "id": "7eb32628",
   "metadata": {},
   "outputs": [
    {
     "data": {
      "text/plain": [
       "['20']"
      ]
     },
     "metadata": {},
     "output_type": "display_data"
    }
   ],
   "source": [
    "# match a digit\n",
    "display(re.findall(r'\\d+', string))"
   ]
  },
  {
   "cell_type": "code",
   "execution_count": 168,
   "id": "ce979239",
   "metadata": {},
   "outputs": [
    {
     "data": {
      "text/plain": [
       "['I have been to Paris ', ' times']"
      ]
     },
     "metadata": {},
     "output_type": "display_data"
    }
   ],
   "source": [
    "# match a non-digit\n",
    "display(re.findall(r'\\D+', string))"
   ]
  },
  {
   "cell_type": "code",
   "execution_count": 169,
   "id": "26796085",
   "metadata": {},
   "outputs": [
    {
     "data": {
      "text/plain": [
       "(1, 2)"
      ]
     },
     "metadata": {},
     "output_type": "display_data"
    },
    {
     "data": {
      "text/plain": [
       "(6, 7)"
      ]
     },
     "metadata": {},
     "output_type": "display_data"
    },
    {
     "data": {
      "text/plain": [
       "(11, 12)"
      ]
     },
     "metadata": {},
     "output_type": "display_data"
    },
    {
     "data": {
      "text/plain": [
       "(14, 15)"
      ]
     },
     "metadata": {},
     "output_type": "display_data"
    },
    {
     "data": {
      "text/plain": [
       "(20, 21)"
      ]
     },
     "metadata": {},
     "output_type": "display_data"
    },
    {
     "data": {
      "text/plain": [
       "(23, 24)"
      ]
     },
     "metadata": {},
     "output_type": "display_data"
    }
   ],
   "source": [
    "# match a space - returns positions\n",
    "for i in re.finditer(r'\\s+', string):\n",
    "    display(i.span())"
   ]
  },
  {
   "cell_type": "code",
   "execution_count": 170,
   "id": "d102e622",
   "metadata": {},
   "outputs": [
    {
     "data": {
      "text/plain": [
       "['I', 'have', 'been', 'to', 'Paris', '20', 'times']"
      ]
     },
     "metadata": {},
     "output_type": "display_data"
    }
   ],
   "source": [
    "# match a non-space\n",
    "display(re.findall(r'\\S+', string))"
   ]
  },
  {
   "cell_type": "code",
   "execution_count": 174,
   "id": "17739e74",
   "metadata": {},
   "outputs": [
    {
     "data": {
      "text/plain": [
       "['I', 'have', 'been', 'to', 'Paris', '20', 'times']"
      ]
     },
     "metadata": {},
     "output_type": "display_data"
    }
   ],
   "source": [
    "# match a word character\n",
    "display(re.findall(r'\\w+', string))"
   ]
  },
  {
   "cell_type": "code",
   "execution_count": 172,
   "id": "e8c4a140",
   "metadata": {},
   "outputs": [
    {
     "data": {
      "text/plain": [
       "[' ', ' ', ' ', ' ', ' ', ' ']"
      ]
     },
     "metadata": {},
     "output_type": "display_data"
    }
   ],
   "source": [
    "# match a non-word character\n",
    "display(re.findall(r'\\W+', string))"
   ]
  },
  {
   "cell_type": "markdown",
   "id": "00df9826",
   "metadata": {},
   "source": [
    "## Character classes"
   ]
  },
  {
   "cell_type": "code",
   "execution_count": 175,
   "id": "97c485ae",
   "metadata": {},
   "outputs": [],
   "source": [
    "string = \"20 people got killed in the mob attack. 14 got severely injured\""
   ]
  },
  {
   "cell_type": "code",
   "execution_count": 176,
   "id": "5137f700",
   "metadata": {},
   "outputs": [
    {
     "data": {
      "text/plain": [
       "['20', '14']"
      ]
     },
     "metadata": {},
     "output_type": "display_data"
    }
   ],
   "source": [
    "# extract numbers\n",
    "display(re.findall(r'[0-9]+', string))"
   ]
  },
  {
   "cell_type": "code",
   "execution_count": 177,
   "id": "817e2a75",
   "metadata": {},
   "outputs": [
    {
     "data": {
      "text/plain": [
       "[' people got killed in the mob attack. ', ' got severely injured']"
      ]
     },
     "metadata": {},
     "output_type": "display_data"
    }
   ],
   "source": [
    "# extract w/o digits\n",
    "display(re.findall(r'[^0-9]+', string))"
   ]
  },
  {
   "cell_type": "markdown",
   "id": "c1224f7f",
   "metadata": {},
   "source": [
    "## POSIX Characters\n",
    "Not natively supported by re library - need to test RegEx"
   ]
  },
  {
   "cell_type": "code",
   "execution_count": 179,
   "id": "fec07196",
   "metadata": {},
   "outputs": [],
   "source": [
    "string = \"I sleep 16 hours, a day\" + \"I sleep 8 hours a day.\" + \"You sleep how many hours ?\""
   ]
  },
  {
   "cell_type": "code",
   "execution_count": 182,
   "id": "4d1ba5cf",
   "metadata": {},
   "outputs": [
    {
     "name": "stdout",
     "output_type": "stream",
     "text": [
      "Requirement already satisfied: regex in /Users/rah/opt/anaconda3/lib/python3.8/site-packages (2021.4.4)\r\n"
     ]
    }
   ],
   "source": [
    "!pip3 install regex"
   ]
  },
  {
   "cell_type": "markdown",
   "id": "9d003ba1",
   "metadata": {},
   "source": [
    "# Tokenization"
   ]
  },
  {
   "cell_type": "code",
   "execution_count": 1,
   "id": "077f1fc9",
   "metadata": {},
   "outputs": [
    {
     "name": "stdout",
     "output_type": "stream",
     "text": [
      "Requirement already satisfied: nltk in /Users/rah/opt/anaconda3/lib/python3.8/site-packages (3.6.1)\r\n",
      "Requirement already satisfied: joblib in /Users/rah/opt/anaconda3/lib/python3.8/site-packages (from nltk) (1.0.1)\r\n",
      "Requirement already satisfied: tqdm in /Users/rah/opt/anaconda3/lib/python3.8/site-packages (from nltk) (4.59.0)\r\n",
      "Requirement already satisfied: click in /Users/rah/opt/anaconda3/lib/python3.8/site-packages (from nltk) (7.1.2)\r\n",
      "Requirement already satisfied: regex in /Users/rah/opt/anaconda3/lib/python3.8/site-packages (from nltk) (2021.4.4)\r\n"
     ]
    }
   ],
   "source": [
    "!pip3 install nltk"
   ]
  },
  {
   "cell_type": "code",
   "execution_count": 5,
   "id": "4508a191",
   "metadata": {},
   "outputs": [
    {
     "name": "stderr",
     "output_type": "stream",
     "text": [
      "[nltk_data] Downloading package punkt to /Users/rah/nltk_data...\n",
      "[nltk_data]   Unzipping tokenizers/punkt.zip.\n"
     ]
    },
    {
     "data": {
      "text/plain": [
       "['Let', \"'s\", 'go', 'to', 'N.Y.', '!']"
      ]
     },
     "execution_count": 5,
     "metadata": {},
     "output_type": "execute_result"
    }
   ],
   "source": [
    "import nltk\n",
    "from nltk.tokenize import word_tokenize\n",
    "nltk.download('punkt')\n",
    "\n",
    "string = \"Let's go to N.Y.!\"\n",
    "word_tokenize(string)"
   ]
  },
  {
   "cell_type": "markdown",
   "id": "3d0ae8ca",
   "metadata": {},
   "source": [
    "# Stemming and Lemmatization"
   ]
  },
  {
   "cell_type": "code",
   "execution_count": 14,
   "id": "7f390f12",
   "metadata": {},
   "outputs": [
    {
     "data": {
      "text/plain": [
       "['caress',\n",
       " 'fli',\n",
       " 'die',\n",
       " 'mule',\n",
       " 'deni',\n",
       " 'die',\n",
       " 'agre',\n",
       " 'own',\n",
       " 'humbl',\n",
       " 'size',\n",
       " 'meet',\n",
       " 'state',\n",
       " 'siez',\n",
       " 'item',\n",
       " 'sensat',\n",
       " 'tradit',\n",
       " 'refer',\n",
       " 'colon',\n",
       " 'plot']"
      ]
     },
     "execution_count": 14,
     "metadata": {},
     "output_type": "execute_result"
    }
   ],
   "source": [
    "# PorterStemmer\n",
    "from nltk.stem import PorterStemmer\n",
    "\n",
    "stemmer = PorterStemmer()\n",
    "\n",
    "plurals = ['caresses', 'flies', 'dies', 'mules', 'denied','died', 'agreed', 'owned', 'humbled', 'sized','meeting', 'stating', 'siezing', 'itemization','sensational', 'traditional', 'reference', 'colonizer','plotted']\n",
    "singles = [stemmer.stem(plural) for plural in plurals]\n",
    "singles"
   ]
  },
  {
   "cell_type": "code",
   "execution_count": 17,
   "id": "4d6e70f2",
   "metadata": {},
   "outputs": [
    {
     "data": {
      "text/plain": [
       "'statement'"
      ]
     },
     "execution_count": 17,
     "metadata": {},
     "output_type": "execute_result"
    }
   ],
   "source": [
    "from nltk.stem import WordNetLemmatizer\n",
    "  \n",
    "lemmatizer = WordNetLemmatizer()\n",
    "lemmatizer.lemmatize(\"statements\")"
   ]
  },
  {
   "cell_type": "code",
   "execution_count": null,
   "id": "5418456a",
   "metadata": {},
   "outputs": [],
   "source": []
  }
 ],
 "metadata": {
  "kernelspec": {
   "display_name": "Python 3 (ipykernel)",
   "language": "python",
   "name": "python3"
  },
  "language_info": {
   "codemirror_mode": {
    "name": "ipython",
    "version": 3
   },
   "file_extension": ".py",
   "mimetype": "text/x-python",
   "name": "python",
   "nbconvert_exporter": "python",
   "pygments_lexer": "ipython3",
   "version": "3.9.12"
  }
 },
 "nbformat": 4,
 "nbformat_minor": 5
}
